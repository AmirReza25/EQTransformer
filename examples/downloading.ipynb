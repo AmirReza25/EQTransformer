{
 "cells": [
  {
   "cell_type": "markdown",
   "metadata": {},
   "source": [
    "# (I) Downloading Continuous Data\n",
    "This notebook demonstrates the use of EQTransformer for downloading continuous data from seismic networks. \n"
   ]
  },
  {
   "cell_type": "code",
   "execution_count": 1,
   "metadata": {},
   "outputs": [],
   "source": [
    "from EQTransformer.utils.downloader import makeStationList, downloadMseeds"
   ]
  },
  {
   "cell_type": "markdown",
   "metadata": {},
   "source": [
    "You can use help() to learn about input parameters of each function. For instance:"
   ]
  },
  {
   "cell_type": "code",
   "execution_count": null,
   "metadata": {},
   "outputs": [],
   "source": [
    "help(makeStationList)"
   ]
  },
  {
   "cell_type": "markdown",
   "metadata": {},
   "source": [
    "### 1) Finding the availabel stations "
   ]
  },
  {
   "cell_type": "markdown",
   "metadata": {},
   "source": [
    "Defining the location and time period of interest:"
   ]
  },
  {
   "cell_type": "code",
   "execution_count": 2,
   "metadata": {},
   "outputs": [],
   "source": [
    "MINLAT=35.50\n",
    "MAXLAT=35.60\n",
    "MINLON=-117.80\n",
    "MAXLON=-117.40\n",
    "STIME=\"2019-09-01 00:00:00.00\"\n",
    "ETIME=\"2019-09-03 00:00:00.00\""
   ]
  },
  {
   "cell_type": "markdown",
   "metadata": {},
   "source": [
    "You can limit your data types (e.g. broadband, short period, or strong motion) of interest:"
   ]
  },
  {
   "cell_type": "code",
   "execution_count": 3,
   "metadata": {},
   "outputs": [],
   "source": [
    "CHANLIST=[\"HH[ZNE]\", \"HH[Z21]\", \"BH[ZNE]\", \"EH[ZNE]\", \"SH[ZNE]\", \"HN[ZNE]\", \"HN[Z21]\", \"DP[ZNE]\"]"
   ]
  },
  {
   "cell_type": "markdown",
   "metadata": {},
   "source": [
    "This will download the information on the stations that are available based on your search criteria. You can filter out the networks or stations that you are not interested in, you can find the name of the appropriate client for your request from here:"
   ]
  },
  {
   "cell_type": "code",
   "execution_count": 4,
   "metadata": {},
   "outputs": [
    {
     "name": "stdout",
     "output_type": "stream",
     "text": [
      "GS--CA06\n",
      "GS--CA10\n",
      "PB--B921\n",
      "ZY--SV08\n"
     ]
    }
   ],
   "source": [
    "import os\n",
    "json_basepath = os.path.join(os.getcwd(),\"json/station_list.json\")\n",
    "\n",
    "makeStationList(json_path=json_basepath,\n",
    "                  client_list=[\"SCEDC\"],  \n",
    "                  min_lat=MINLAT,\n",
    "                  max_lat=MAXLAT,\n",
    "                  min_lon=MINLON, \n",
    "                  max_lon=MAXLON,                      \n",
    "                  start_time=STIME, \n",
    "                  end_time=ETIME,\n",
    "                  channel_list=CHANLIST,\n",
    "                  filter_network=[\"SY\"],\n",
    "                  filter_station=[])"
   ]
  },
  {
   "cell_type": "markdown",
   "metadata": {},
   "source": [
    "A jason file (\"stataions_list.json\") should have been created in your current directory. This contains information for the available stations (i.e. 4 stations in this case). Next, you can download the data for the available stations using the following function and script. This may take a few minutes."
   ]
  },
  {
   "cell_type": "markdown",
   "metadata": {},
   "source": [
    "### Alternative way:"
   ]
  },
  {
   "cell_type": "code",
   "execution_count": null,
   "metadata": {},
   "outputs": [],
   "source": [
    "NET = \"CI\"\n",
    "STA = \"BAK,ARV\"\n",
    "LOC = \"*\"\n",
    "CHA =\"BHZ\"\n",
    "STIME=\"2020-09-01 00:00:00.00\"\n",
    "ETIME=\"2020-09-02 00:00:00.00\""
   ]
  },
  {
   "cell_type": "code",
   "execution_count": null,
   "metadata": {},
   "outputs": [],
   "source": [
    "import os\n",
    "json_basepath = os.path.join(os.getcwd(),\"json/station_list.json\")\n",
    "makeStationList(json_path=json_basepath,\n",
    "                  client_list=[\"IRIS\"],\n",
    "                  min_lat=None, max_lat=None, min_lon=None, max_lon=None, \n",
    "                  network=NET,\n",
    "                  station=STA,\n",
    "                  location=LOC,\n",
    "                  channel=CHA,                      \n",
    "                  start_time=STIME, \n",
    "                  end_time=ETIME,\n",
    "                  filter_network=[])"
   ]
  },
  {
   "cell_type": "markdown",
   "metadata": {},
   "source": [
    "### 2) Downloading the data"
   ]
  },
  {
   "cell_type": "markdown",
   "metadata": {},
   "source": [
    "You can define multipel clients as the source:"
   ]
  },
  {
   "cell_type": "code",
   "execution_count": 5,
   "metadata": {},
   "outputs": [
    {
     "name": "stderr",
     "output_type": "stream",
     "text": [
      "[2023-09-25 12:42:21,115] - obspy.clients.fdsn.mass_downloader - INFO: Initializing FDSN client(s) for SCEDC, IRIS.\n"
     ]
    },
    {
     "name": "stdout",
     "output_type": "stream",
     "text": [
      "####### There are 4 stations in the list. #######\n"
     ]
    },
    {
     "name": "stderr",
     "output_type": "stream",
     "text": [
      "[2023-09-25 12:42:22,499] - obspy.clients.fdsn.mass_downloader - INFO: Successfully initialized 2 client(s): SCEDC, IRIS.\n",
      "[2023-09-25 12:42:22,507] - obspy.clients.fdsn.mass_downloader - INFO: Total acquired or preexisting stations: 0\n",
      "[2023-09-25 12:42:22,508] - obspy.clients.fdsn.mass_downloader - INFO: Total acquired or preexisting stations: 0\n",
      "[2023-09-25 12:42:22,509] - obspy.clients.fdsn.mass_downloader - INFO: Client 'SCEDC' - Requesting unreliable availability.\n",
      "[2023-09-25 12:42:22,511] - obspy.clients.fdsn.mass_downloader - INFO: Client 'SCEDC' - Requesting unreliable availability.\n"
     ]
    },
    {
     "name": "stdout",
     "output_type": "stream",
     "text": [
      "======= Working on CA06 station.======= Working on CA10 station.\n",
      "\n"
     ]
    },
    {
     "name": "stderr",
     "output_type": "stream",
     "text": [
      "[2023-09-25 12:42:23,233] - obspy.clients.fdsn.mass_downloader - INFO: Client 'SCEDC' - Successfully requested availability (0.72 seconds)\n",
      "[2023-09-25 12:42:23,234] - obspy.clients.fdsn.mass_downloader - INFO: Client 'SCEDC' - Successfully requested availability (0.72 seconds)\n",
      "[2023-09-25 12:42:23,239] - obspy.clients.fdsn.mass_downloader - INFO: Client 'SCEDC' - Found 1 stations (3 channels).\n",
      "[2023-09-25 12:42:23,242] - obspy.clients.fdsn.mass_downloader - INFO: Client 'SCEDC' - Found 0 stations (0 channels).\n",
      "[2023-09-25 12:42:23,245] - obspy.clients.fdsn.mass_downloader - INFO: Client 'SCEDC' - No data available.\n",
      "[2023-09-25 12:42:23,246] - obspy.clients.fdsn.mass_downloader - INFO: Total acquired or preexisting stations: 0\n",
      "[2023-09-25 12:42:23,243] - obspy.clients.fdsn.mass_downloader - INFO: Client 'SCEDC' - Will attempt to download data from 1 stations.\n",
      "[2023-09-25 12:42:23,248] - obspy.clients.fdsn.mass_downloader - INFO: Client 'IRIS' - Requesting reliable availability.\n",
      "[2023-09-25 12:42:23,253] - obspy.clients.fdsn.mass_downloader - INFO: Client 'SCEDC' - Status for 3 time intervals/channels before downloading: NEEDS_DOWNLOADING\n",
      "[2023-09-25 12:42:23,748] - obspy.clients.fdsn.mass_downloader - INFO: Client 'IRIS' - Successfully requested availability (0.50 seconds)\n",
      "[2023-09-25 12:42:23,749] - obspy.clients.fdsn.mass_downloader - INFO: Client 'IRIS' - Found 0 stations (0 channels).\n",
      "[2023-09-25 12:42:23,750] - obspy.clients.fdsn.mass_downloader - INFO: Client 'IRIS' - No data available.\n",
      "[2023-09-25 12:42:23,751] - obspy.clients.fdsn.mass_downloader - INFO: ============================== Final report\n",
      "[2023-09-25 12:42:23,753] - obspy.clients.fdsn.mass_downloader - INFO: 0 MiniSEED files [0.0 MB] already existed.\n",
      "[2023-09-25 12:42:23,757] - obspy.clients.fdsn.mass_downloader - INFO: 0 StationXML files [0.0 MB] already existed.\n",
      "[2023-09-25 12:42:23,759] - obspy.clients.fdsn.mass_downloader - INFO: Client 'SCEDC' - Acquired 0 MiniSEED files [0.0 MB].\n",
      "[2023-09-25 12:42:23,760] - obspy.clients.fdsn.mass_downloader - INFO: Client 'SCEDC' - Acquired 0 StationXML files [0.0 MB].\n",
      "[2023-09-25 12:42:23,762] - obspy.clients.fdsn.mass_downloader - INFO: Client 'IRIS' - Acquired 0 MiniSEED files [0.0 MB].\n",
      "[2023-09-25 12:42:23,764] - obspy.clients.fdsn.mass_downloader - INFO: Client 'IRIS' - Acquired 0 StationXML files [0.0 MB].\n",
      "[2023-09-25 12:42:23,767] - obspy.clients.fdsn.mass_downloader - INFO: Downloaded 0.0 MB in total.\n"
     ]
    },
    {
     "name": "stdout",
     "output_type": "stream",
     "text": [
      "** done with --> CA10 -- GS -- 2019-09-01\n"
     ]
    },
    {
     "name": "stderr",
     "output_type": "stream",
     "text": [
      "[2023-09-25 12:42:52,770] - obspy.clients.fdsn.mass_downloader - INFO: Total acquired or preexisting stations: 0\n",
      "[2023-09-25 12:42:52,773] - obspy.clients.fdsn.mass_downloader - INFO: Client 'SCEDC' - Requesting unreliable availability.\n",
      "[2023-09-25 12:42:57,459] - obspy.clients.fdsn.mass_downloader - INFO: Client 'SCEDC' - Successfully requested availability (4.68 seconds)\n",
      "[2023-09-25 12:42:57,464] - obspy.clients.fdsn.mass_downloader - INFO: Client 'SCEDC' - Found 0 stations (0 channels).\n",
      "[2023-09-25 12:42:57,466] - obspy.clients.fdsn.mass_downloader - INFO: Client 'SCEDC' - No data available.\n",
      "[2023-09-25 12:42:57,467] - obspy.clients.fdsn.mass_downloader - INFO: Total acquired or preexisting stations: 0\n",
      "[2023-09-25 12:42:57,470] - obspy.clients.fdsn.mass_downloader - INFO: Client 'IRIS' - Requesting reliable availability.\n",
      "[2023-09-25 12:42:59,897] - obspy.clients.fdsn.mass_downloader - INFO: Client 'SCEDC' - Successfully downloaded 1 channels (of 1)\n",
      "[2023-09-25 12:43:00,413] - obspy.clients.fdsn.mass_downloader - INFO: Client 'IRIS' - Successfully requested availability (2.94 seconds)\n",
      "[2023-09-25 12:43:00,415] - obspy.clients.fdsn.mass_downloader - INFO: Client 'IRIS' - Found 0 stations (0 channels).\n",
      "[2023-09-25 12:43:00,416] - obspy.clients.fdsn.mass_downloader - INFO: Client 'IRIS' - No data available.\n",
      "[2023-09-25 12:43:00,418] - obspy.clients.fdsn.mass_downloader - INFO: ============================== Final report\n",
      "[2023-09-25 12:43:00,421] - obspy.clients.fdsn.mass_downloader - INFO: 0 MiniSEED files [0.0 MB] already existed.\n",
      "[2023-09-25 12:43:00,423] - obspy.clients.fdsn.mass_downloader - INFO: 0 StationXML files [0.0 MB] already existed.\n",
      "[2023-09-25 12:43:00,424] - obspy.clients.fdsn.mass_downloader - INFO: Client 'SCEDC' - Acquired 0 MiniSEED files [0.0 MB].\n",
      "[2023-09-25 12:43:00,427] - obspy.clients.fdsn.mass_downloader - INFO: Client 'SCEDC' - Acquired 0 StationXML files [0.0 MB].\n",
      "[2023-09-25 12:43:00,429] - obspy.clients.fdsn.mass_downloader - INFO: Client 'IRIS' - Acquired 0 MiniSEED files [0.0 MB].\n",
      "[2023-09-25 12:43:00,431] - obspy.clients.fdsn.mass_downloader - INFO: Client 'IRIS' - Acquired 0 StationXML files [0.0 MB].\n",
      "[2023-09-25 12:43:00,433] - obspy.clients.fdsn.mass_downloader - INFO: Downloaded 0.0 MB in total.\n"
     ]
    },
    {
     "name": "stdout",
     "output_type": "stream",
     "text": [
      "** done with --> CA10 -- GS -- 2019-09-02\n"
     ]
    },
    {
     "name": "stderr",
     "output_type": "stream",
     "text": [
      "[2023-09-25 12:43:07,372] - obspy.clients.fdsn.mass_downloader - INFO: Client 'SCEDC' - Successfully downloaded 1 channels (of 1)\n",
      "[2023-09-25 12:43:07,538] - obspy.clients.fdsn.mass_downloader - INFO: Client 'SCEDC' - Successfully downloaded 1 channels (of 1)\n",
      "[2023-09-25 12:43:07,540] - obspy.clients.fdsn.mass_downloader - INFO: Client 'SCEDC' - Launching basic QC checks...\n",
      "[2023-09-25 12:43:07,579] - obspy.clients.fdsn.mass_downloader - INFO: Client 'SCEDC' - Downloaded 28.2 MB [651.02 KB/sec] of data, 0.0 MB of which were discarded afterwards.\n",
      "[2023-09-25 12:43:07,580] - obspy.clients.fdsn.mass_downloader - INFO: Client 'SCEDC' - Status for 3 time intervals/channels after downloading: DOWNLOADED\n",
      "[2023-09-25 12:43:14,889] - obspy.clients.fdsn.mass_downloader - INFO: Client 'SCEDC' - Successfully downloaded 'downloads_mseedsxml/CA06/GS.CA06.xml'.\n",
      "[2023-09-25 12:43:14,898] - obspy.clients.fdsn.mass_downloader - INFO: Client 'SCEDC' - Downloaded 1 station files [0.1 MB] in 7.3 seconds [9.52 KB/sec].\n",
      "[2023-09-25 12:43:14,900] - obspy.clients.fdsn.mass_downloader - INFO: Total acquired or preexisting stations: 1\n",
      "[2023-09-25 12:43:14,901] - obspy.clients.fdsn.mass_downloader - INFO: Client 'IRIS' - Requesting reliable availability.\n",
      "[2023-09-25 12:43:15,680] - obspy.clients.fdsn.mass_downloader - INFO: Client 'IRIS' - Successfully requested availability (0.78 seconds)\n",
      "[2023-09-25 12:43:15,684] - obspy.clients.fdsn.mass_downloader - INFO: Client 'IRIS' - Found 1 stations (3 channels).\n",
      "[2023-09-25 12:43:15,685] - obspy.clients.fdsn.mass_downloader - INFO: Client 'IRIS' - No new data available after discarding already downloaded data.\n",
      "[2023-09-25 12:43:15,687] - obspy.clients.fdsn.mass_downloader - INFO: ============================== Final report\n",
      "[2023-09-25 12:43:15,689] - obspy.clients.fdsn.mass_downloader - INFO: 0 MiniSEED files [0.0 MB] already existed.\n",
      "[2023-09-25 12:43:15,691] - obspy.clients.fdsn.mass_downloader - INFO: 0 StationXML files [0.0 MB] already existed.\n",
      "[2023-09-25 12:43:15,694] - obspy.clients.fdsn.mass_downloader - INFO: Client 'SCEDC' - Acquired 3 MiniSEED files [28.2 MB].\n",
      "[2023-09-25 12:43:15,696] - obspy.clients.fdsn.mass_downloader - INFO: Client 'SCEDC' - Acquired 1 StationXML files [0.1 MB].\n",
      "[2023-09-25 12:43:15,697] - obspy.clients.fdsn.mass_downloader - INFO: Client 'IRIS' - Acquired 0 MiniSEED files [0.0 MB].\n",
      "[2023-09-25 12:43:15,699] - obspy.clients.fdsn.mass_downloader - INFO: Client 'IRIS' - Acquired 0 StationXML files [0.0 MB].\n",
      "[2023-09-25 12:43:15,701] - obspy.clients.fdsn.mass_downloader - INFO: Downloaded 28.2 MB in total.\n"
     ]
    },
    {
     "name": "stdout",
     "output_type": "stream",
     "text": [
      "** done with --> CA06 -- GS -- 2019-09-01\n"
     ]
    },
    {
     "name": "stderr",
     "output_type": "stream",
     "text": [
      "[2023-09-25 12:43:28,437] - obspy.clients.fdsn.mass_downloader - INFO: Total acquired or preexisting stations: 0\n",
      "[2023-09-25 12:43:28,438] - obspy.clients.fdsn.mass_downloader - INFO: Client 'SCEDC' - Requesting unreliable availability.\n"
     ]
    },
    {
     "name": "stdout",
     "output_type": "stream",
     "text": [
      "======= Working on B921 station.\n"
     ]
    },
    {
     "name": "stderr",
     "output_type": "stream",
     "text": [
      "[2023-09-25 12:43:29,110] - obspy.clients.fdsn.mass_downloader - INFO: Client 'SCEDC' - Successfully requested availability (0.67 seconds)\n",
      "[2023-09-25 12:43:29,158] - obspy.clients.fdsn.mass_downloader - INFO: Client 'SCEDC' - Found 1 stations (3 channels).\n",
      "[2023-09-25 12:43:29,159] - obspy.clients.fdsn.mass_downloader - INFO: Client 'SCEDC' - Will attempt to download data from 1 stations.\n",
      "[2023-09-25 12:43:29,162] - obspy.clients.fdsn.mass_downloader - INFO: Client 'SCEDC' - Status for 3 time intervals/channels before downloading: NEEDS_DOWNLOADING\n",
      "[2023-09-25 12:43:43,705] - obspy.clients.fdsn.mass_downloader - INFO: Total acquired or preexisting stations: 0\n",
      "[2023-09-25 12:43:43,707] - obspy.clients.fdsn.mass_downloader - INFO: Client 'SCEDC' - Requesting unreliable availability.\n",
      "[2023-09-25 12:43:45,792] - obspy.clients.fdsn.mass_downloader - INFO: Client 'SCEDC' - Successfully requested availability (2.08 seconds)\n",
      "[2023-09-25 12:43:45,797] - obspy.clients.fdsn.mass_downloader - INFO: Client 'SCEDC' - Found 1 stations (3 channels).\n",
      "[2023-09-25 12:43:45,799] - obspy.clients.fdsn.mass_downloader - INFO: Client 'SCEDC' - Will attempt to download data from 1 stations.\n",
      "[2023-09-25 12:43:45,803] - obspy.clients.fdsn.mass_downloader - INFO: Client 'SCEDC' - Status for 3 time intervals/channels before downloading: NEEDS_DOWNLOADING\n",
      "[2023-09-25 12:43:56,115] - obspy.clients.fdsn.mass_downloader - INFO: Client 'SCEDC' - Successfully downloaded 1 channels (of 1)\n",
      "[2023-09-25 12:43:57,965] - obspy.clients.fdsn.mass_downloader - INFO: Client 'SCEDC' - No data available for request.\n",
      "HTTP Status code: 204\n",
      "[2023-09-25 12:43:57,969] - obspy.clients.fdsn.mass_downloader - INFO: Client 'SCEDC' - No data available for request.\n",
      "HTTP Status code: 204\n",
      "[2023-09-25 12:43:58,021] - obspy.clients.fdsn.mass_downloader - INFO: Client 'SCEDC' - No data available for request.\n",
      "HTTP Status code: 204\n",
      "[2023-09-25 12:43:58,023] - obspy.clients.fdsn.mass_downloader - INFO: Client 'SCEDC' - Launching basic QC checks...\n",
      "[2023-09-25 12:43:58,028] - obspy.clients.fdsn.mass_downloader - INFO: Client 'SCEDC' - Downloaded 0.0 MB [0.00 KB/sec] of data, 0.0 MB of which were discarded afterwards.\n",
      "[2023-09-25 12:43:58,031] - obspy.clients.fdsn.mass_downloader - INFO: Client 'SCEDC' - Status for 3 time intervals/channels after downloading: DOWNLOAD_FAILED\n",
      "[2023-09-25 12:43:58,034] - obspy.clients.fdsn.mass_downloader - INFO: Client 'SCEDC' - No station information to download.\n",
      "[2023-09-25 12:43:58,036] - obspy.clients.fdsn.mass_downloader - INFO: Client 'SCEDC' - No data could be downloaded.\n",
      "[2023-09-25 12:43:58,037] - obspy.clients.fdsn.mass_downloader - INFO: Total acquired or preexisting stations: 0\n",
      "[2023-09-25 12:43:58,040] - obspy.clients.fdsn.mass_downloader - INFO: Client 'IRIS' - Requesting reliable availability.\n",
      "[2023-09-25 12:44:02,372] - obspy.clients.fdsn.mass_downloader - INFO: Client 'IRIS' - Successfully requested availability (4.33 seconds)\n",
      "[2023-09-25 12:44:02,377] - obspy.clients.fdsn.mass_downloader - INFO: Client 'IRIS' - Found 1 stations (3 channels).\n",
      "[2023-09-25 12:44:02,381] - obspy.clients.fdsn.mass_downloader - INFO: Client 'IRIS' - Will attempt to download data from 1 stations.\n",
      "[2023-09-25 12:44:02,386] - obspy.clients.fdsn.mass_downloader - INFO: Client 'IRIS' - Status for 3 time intervals/channels before downloading: NEEDS_DOWNLOADING\n",
      "[2023-09-25 12:44:02,671] - obspy.clients.fdsn.mass_downloader - INFO: Client 'SCEDC' - Successfully downloaded 1 channels (of 1)\n",
      "[2023-09-25 12:44:03,472] - obspy.clients.fdsn.mass_downloader - INFO: Client 'SCEDC' - Successfully downloaded 1 channels (of 1)\n",
      "[2023-09-25 12:44:03,473] - obspy.clients.fdsn.mass_downloader - INFO: Client 'SCEDC' - Launching basic QC checks...\n",
      "[2023-09-25 12:44:03,495] - obspy.clients.fdsn.mass_downloader - INFO: Client 'SCEDC' - Downloaded 27.1 MB [809.83 KB/sec] of data, 0.0 MB of which were discarded afterwards.\n",
      "[2023-09-25 12:44:03,496] - obspy.clients.fdsn.mass_downloader - INFO: Client 'SCEDC' - Status for 3 time intervals/channels after downloading: DOWNLOADED\n",
      "[2023-09-25 12:44:10,699] - obspy.clients.fdsn.mass_downloader - INFO: Client 'SCEDC' - Successfully downloaded 'downloads_mseedsxml/B921/PB.B921.xml'.\n",
      "[2023-09-25 12:44:10,706] - obspy.clients.fdsn.mass_downloader - INFO: Client 'SCEDC' - Downloaded 1 station files [0.0 MB] in 7.2 seconds [3.50 KB/sec].\n",
      "[2023-09-25 12:44:10,709] - obspy.clients.fdsn.mass_downloader - INFO: Total acquired or preexisting stations: 1\n",
      "[2023-09-25 12:44:10,711] - obspy.clients.fdsn.mass_downloader - INFO: Client 'IRIS' - Requesting reliable availability.\n",
      "[2023-09-25 12:44:12,495] - obspy.clients.fdsn.mass_downloader - INFO: Client 'IRIS' - Successfully requested availability (1.78 seconds)\n",
      "[2023-09-25 12:44:12,531] - obspy.clients.fdsn.mass_downloader - INFO: Client 'IRIS' - Found 1 stations (3 channels).\n",
      "[2023-09-25 12:44:12,532] - obspy.clients.fdsn.mass_downloader - INFO: Client 'IRIS' - No new data available after discarding already downloaded data.\n",
      "[2023-09-25 12:44:12,534] - obspy.clients.fdsn.mass_downloader - INFO: ============================== Final report\n",
      "[2023-09-25 12:44:12,536] - obspy.clients.fdsn.mass_downloader - INFO: 0 MiniSEED files [0.0 MB] already existed.\n",
      "[2023-09-25 12:44:12,538] - obspy.clients.fdsn.mass_downloader - INFO: 0 StationXML files [0.0 MB] already existed.\n",
      "[2023-09-25 12:44:12,540] - obspy.clients.fdsn.mass_downloader - INFO: Client 'SCEDC' - Acquired 3 MiniSEED files [27.1 MB].\n",
      "[2023-09-25 12:44:12,542] - obspy.clients.fdsn.mass_downloader - INFO: Client 'SCEDC' - Acquired 1 StationXML files [0.0 MB].\n",
      "[2023-09-25 12:44:12,543] - obspy.clients.fdsn.mass_downloader - INFO: Client 'IRIS' - Acquired 0 MiniSEED files [0.0 MB].\n",
      "[2023-09-25 12:44:12,545] - obspy.clients.fdsn.mass_downloader - INFO: Client 'IRIS' - Acquired 0 StationXML files [0.0 MB].\n",
      "[2023-09-25 12:44:12,547] - obspy.clients.fdsn.mass_downloader - INFO: Downloaded 27.1 MB in total.\n"
     ]
    },
    {
     "name": "stdout",
     "output_type": "stream",
     "text": [
      "** done with --> B921 -- PB -- 2019-09-01\n"
     ]
    },
    {
     "name": "stderr",
     "output_type": "stream",
     "text": [
      "[2023-09-25 12:44:41,550] - obspy.clients.fdsn.mass_downloader - INFO: Total acquired or preexisting stations: 0\n",
      "[2023-09-25 12:44:41,553] - obspy.clients.fdsn.mass_downloader - INFO: Client 'SCEDC' - Requesting unreliable availability.\n",
      "[2023-09-25 12:44:42,234] - obspy.clients.fdsn.mass_downloader - INFO: Client 'SCEDC' - Successfully requested availability (0.68 seconds)\n",
      "[2023-09-25 12:44:42,283] - obspy.clients.fdsn.mass_downloader - INFO: Client 'SCEDC' - Found 1 stations (3 channels).\n",
      "[2023-09-25 12:44:42,285] - obspy.clients.fdsn.mass_downloader - INFO: Client 'SCEDC' - Will attempt to download data from 1 stations.\n",
      "[2023-09-25 12:44:42,289] - obspy.clients.fdsn.mass_downloader - INFO: Client 'SCEDC' - Status for 3 time intervals/channels before downloading: NEEDS_DOWNLOADING\n",
      "[2023-09-25 12:44:59,964] - obspy.clients.fdsn.mass_downloader - INFO: Client 'SCEDC' - No data available for request.\n",
      "HTTP Status code: 204\n",
      "[2023-09-25 12:45:56,098] - obspy.clients.fdsn.mass_downloader - INFO: Client 'SCEDC' - No data available for request.\n",
      "HTTP Status code: 204\n",
      "[2023-09-25 12:46:42,560] - obspy.clients.fdsn.mass_downloader - ERROR: Client 'SCEDC' - Timed Out\n",
      "[2023-09-25 12:46:42,566] - obspy.clients.fdsn.mass_downloader - INFO: Client 'SCEDC' - Launching basic QC checks...\n",
      "[2023-09-25 12:46:42,570] - obspy.clients.fdsn.mass_downloader - INFO: Client 'SCEDC' - Downloaded 0.0 MB [0.00 KB/sec] of data, 0.0 MB of which were discarded afterwards.\n",
      "[2023-09-25 12:46:42,573] - obspy.clients.fdsn.mass_downloader - INFO: Client 'SCEDC' - Status for 3 time intervals/channels after downloading: DOWNLOAD_FAILED\n",
      "[2023-09-25 12:46:42,575] - obspy.clients.fdsn.mass_downloader - INFO: Client 'SCEDC' - No station information to download.\n",
      "[2023-09-25 12:46:42,578] - obspy.clients.fdsn.mass_downloader - INFO: Client 'SCEDC' - No data could be downloaded.\n",
      "[2023-09-25 12:46:42,580] - obspy.clients.fdsn.mass_downloader - INFO: Total acquired or preexisting stations: 0\n",
      "[2023-09-25 12:46:42,582] - obspy.clients.fdsn.mass_downloader - INFO: Client 'IRIS' - Requesting reliable availability.\n",
      "[2023-09-25 12:46:46,085] - obspy.clients.fdsn.mass_downloader - INFO: Client 'IRIS' - Successfully requested availability (3.50 seconds)\n",
      "[2023-09-25 12:46:46,110] - obspy.clients.fdsn.mass_downloader - INFO: Client 'IRIS' - Found 1 stations (3 channels).\n",
      "[2023-09-25 12:46:46,112] - obspy.clients.fdsn.mass_downloader - INFO: Client 'IRIS' - Will attempt to download data from 1 stations.\n",
      "[2023-09-25 12:46:46,115] - obspy.clients.fdsn.mass_downloader - INFO: Client 'IRIS' - Status for 3 time intervals/channels before downloading: NEEDS_DOWNLOADING\n",
      "[2023-09-25 12:47:16,055] - obspy.clients.fdsn.mass_downloader - INFO: Client 'IRIS' - Successfully downloaded 1 channels (of 1)\n",
      "[2023-09-25 12:47:33,701] - obspy.clients.fdsn.mass_downloader - INFO: Client 'IRIS' - Successfully downloaded 1 channels (of 1)\n",
      "[2023-09-25 12:47:44,138] - obspy.clients.fdsn.mass_downloader - INFO: Client 'IRIS' - Successfully downloaded 1 channels (of 1)\n",
      "[2023-09-25 12:47:44,140] - obspy.clients.fdsn.mass_downloader - INFO: Client 'IRIS' - Launching basic QC checks...\n",
      "[2023-09-25 12:47:44,217] - obspy.clients.fdsn.mass_downloader - INFO: Client 'IRIS' - Downloaded 24.9 MB [114.92 KB/sec] of data, 0.0 MB of which were discarded afterwards.\n",
      "[2023-09-25 12:47:44,218] - obspy.clients.fdsn.mass_downloader - INFO: Client 'IRIS' - Status for 3 time intervals/channels after downloading: DOWNLOADED\n",
      "[2023-09-25 12:47:44,223] - obspy.clients.fdsn.mass_downloader - INFO: Client 'IRIS' - No station information to download.\n",
      "[2023-09-25 12:47:44,224] - obspy.clients.fdsn.mass_downloader - INFO: ============================== Final report\n",
      "[2023-09-25 12:47:44,225] - obspy.clients.fdsn.mass_downloader - INFO: 0 MiniSEED files [0.0 MB] already existed.\n",
      "[2023-09-25 12:47:44,226] - obspy.clients.fdsn.mass_downloader - INFO: 1 StationXML files [0.1 MB] already existed.\n",
      "[2023-09-25 12:47:44,227] - obspy.clients.fdsn.mass_downloader - INFO: Client 'SCEDC' - Acquired 0 MiniSEED files [0.0 MB].\n",
      "[2023-09-25 12:47:44,228] - obspy.clients.fdsn.mass_downloader - INFO: Client 'SCEDC' - Acquired 0 StationXML files [0.0 MB].\n",
      "[2023-09-25 12:47:44,229] - obspy.clients.fdsn.mass_downloader - INFO: Client 'IRIS' - Acquired 3 MiniSEED files [24.9 MB].\n",
      "[2023-09-25 12:47:44,230] - obspy.clients.fdsn.mass_downloader - INFO: Client 'IRIS' - Acquired 0 StationXML files [0.0 MB].\n",
      "[2023-09-25 12:47:44,232] - obspy.clients.fdsn.mass_downloader - INFO: Downloaded 24.9 MB in total.\n"
     ]
    },
    {
     "name": "stdout",
     "output_type": "stream",
     "text": [
      "** done with --> CA06 -- GS -- 2019-09-02\n"
     ]
    },
    {
     "name": "stderr",
     "output_type": "stream",
     "text": [
      "[2023-09-25 12:48:13,234] - obspy.clients.fdsn.mass_downloader - INFO: Total acquired or preexisting stations: 0\n",
      "[2023-09-25 12:48:13,236] - obspy.clients.fdsn.mass_downloader - INFO: Client 'SCEDC' - Requesting unreliable availability.\n"
     ]
    },
    {
     "name": "stdout",
     "output_type": "stream",
     "text": [
      "======= Working on SV08 station.\n"
     ]
    },
    {
     "name": "stderr",
     "output_type": "stream",
     "text": [
      "[2023-09-25 12:48:14,099] - obspy.clients.fdsn.mass_downloader - INFO: Client 'SCEDC' - Successfully requested availability (0.86 seconds)\n",
      "[2023-09-25 12:48:14,102] - obspy.clients.fdsn.mass_downloader - INFO: Client 'SCEDC' - Found 1 stations (3 channels).\n",
      "[2023-09-25 12:48:14,103] - obspy.clients.fdsn.mass_downloader - INFO: Client 'SCEDC' - Will attempt to download data from 1 stations.\n",
      "[2023-09-25 12:48:14,107] - obspy.clients.fdsn.mass_downloader - INFO: Client 'SCEDC' - Status for 3 time intervals/channels before downloading: NEEDS_DOWNLOADING\n",
      "[2023-09-25 12:48:39,809] - obspy.clients.fdsn.mass_downloader - INFO: Client 'SCEDC' - No data available for request.\n",
      "HTTP Status code: 204\n",
      "[2023-09-25 12:48:55,864] - obspy.clients.fdsn.mass_downloader - INFO: Client 'SCEDC' - No data available for request.\n",
      "HTTP Status code: 204\n",
      "[2023-09-25 12:48:55,872] - obspy.clients.fdsn.mass_downloader - INFO: Client 'SCEDC' - No data available for request.\n",
      "HTTP Status code: 204\n",
      "[2023-09-25 12:48:55,875] - obspy.clients.fdsn.mass_downloader - INFO: Client 'SCEDC' - Launching basic QC checks...\n",
      "[2023-09-25 12:48:55,879] - obspy.clients.fdsn.mass_downloader - INFO: Client 'SCEDC' - Downloaded 0.0 MB [0.00 KB/sec] of data, 0.0 MB of which were discarded afterwards.\n",
      "[2023-09-25 12:48:55,881] - obspy.clients.fdsn.mass_downloader - INFO: Client 'SCEDC' - Status for 3 time intervals/channels after downloading: DOWNLOAD_FAILED\n",
      "[2023-09-25 12:48:55,883] - obspy.clients.fdsn.mass_downloader - INFO: Client 'SCEDC' - No station information to download.\n",
      "[2023-09-25 12:48:55,885] - obspy.clients.fdsn.mass_downloader - INFO: Client 'SCEDC' - No data could be downloaded.\n",
      "[2023-09-25 12:48:55,887] - obspy.clients.fdsn.mass_downloader - INFO: Total acquired or preexisting stations: 0\n",
      "[2023-09-25 12:48:55,890] - obspy.clients.fdsn.mass_downloader - INFO: Client 'IRIS' - Requesting reliable availability.\n",
      "[2023-09-25 12:48:57,593] - obspy.clients.fdsn.mass_downloader - INFO: Client 'IRIS' - No data available for request.\n",
      "[2023-09-25 12:48:57,595] - obspy.clients.fdsn.mass_downloader - INFO: Client 'IRIS' - No data available.\n",
      "[2023-09-25 12:48:57,596] - obspy.clients.fdsn.mass_downloader - INFO: ============================== Final report\n",
      "[2023-09-25 12:48:57,599] - obspy.clients.fdsn.mass_downloader - INFO: 0 MiniSEED files [0.0 MB] already existed.\n",
      "[2023-09-25 12:48:57,601] - obspy.clients.fdsn.mass_downloader - INFO: 0 StationXML files [0.0 MB] already existed.\n",
      "[2023-09-25 12:48:57,603] - obspy.clients.fdsn.mass_downloader - INFO: Client 'SCEDC' - Acquired 0 MiniSEED files [0.0 MB].\n",
      "[2023-09-25 12:48:57,606] - obspy.clients.fdsn.mass_downloader - INFO: Client 'SCEDC' - Acquired 0 StationXML files [0.0 MB].\n",
      "[2023-09-25 12:48:57,608] - obspy.clients.fdsn.mass_downloader - INFO: Client 'IRIS' - Acquired 0 MiniSEED files [0.0 MB].\n",
      "[2023-09-25 12:48:57,611] - obspy.clients.fdsn.mass_downloader - INFO: Client 'IRIS' - Acquired 0 StationXML files [0.0 MB].\n",
      "[2023-09-25 12:48:57,614] - obspy.clients.fdsn.mass_downloader - INFO: Downloaded 0.0 MB in total.\n"
     ]
    },
    {
     "name": "stdout",
     "output_type": "stream",
     "text": [
      "** done with --> SV08 -- ZY -- 2019-09-01\n"
     ]
    },
    {
     "name": "stderr",
     "output_type": "stream",
     "text": [
      "[2023-09-25 12:49:24,617] - obspy.clients.fdsn.mass_downloader - INFO: Total acquired or preexisting stations: 0\n",
      "[2023-09-25 12:49:24,619] - obspy.clients.fdsn.mass_downloader - INFO: Client 'SCEDC' - Requesting unreliable availability.\n",
      "[2023-09-25 12:49:25,264] - obspy.clients.fdsn.mass_downloader - INFO: Client 'SCEDC' - Successfully requested availability (0.64 seconds)\n",
      "[2023-09-25 12:49:25,268] - obspy.clients.fdsn.mass_downloader - INFO: Client 'SCEDC' - Found 1 stations (3 channels).\n",
      "[2023-09-25 12:49:25,271] - obspy.clients.fdsn.mass_downloader - INFO: Client 'SCEDC' - Will attempt to download data from 1 stations.\n",
      "[2023-09-25 12:49:25,275] - obspy.clients.fdsn.mass_downloader - INFO: Client 'SCEDC' - Status for 3 time intervals/channels before downloading: NEEDS_DOWNLOADING\n",
      "[2023-09-25 12:49:28,213] - obspy.clients.fdsn.mass_downloader - INFO: Client 'IRIS' - Successfully downloaded 1 channels (of 1)\n",
      "[2023-09-25 12:49:33,791] - obspy.clients.fdsn.mass_downloader - INFO: Client 'IRIS' - Successfully downloaded 1 channels (of 1)\n",
      "[2023-09-25 12:49:34,375] - obspy.clients.fdsn.mass_downloader - INFO: Client 'IRIS' - Successfully downloaded 1 channels (of 1)\n",
      "[2023-09-25 12:49:34,377] - obspy.clients.fdsn.mass_downloader - INFO: Client 'IRIS' - Launching basic QC checks...\n",
      "[2023-09-25 12:49:34,426] - obspy.clients.fdsn.mass_downloader - INFO: Client 'IRIS' - Downloaded 19.3 MB [117.30 KB/sec] of data, 0.0 MB of which were discarded afterwards.\n",
      "[2023-09-25 12:49:34,427] - obspy.clients.fdsn.mass_downloader - INFO: Client 'IRIS' - Status for 3 time intervals/channels after downloading: DOWNLOADED\n",
      "[2023-09-25 12:49:34,432] - obspy.clients.fdsn.mass_downloader - INFO: Client 'IRIS' - No station information to download.\n",
      "[2023-09-25 12:49:34,433] - obspy.clients.fdsn.mass_downloader - INFO: ============================== Final report\n",
      "[2023-09-25 12:49:34,434] - obspy.clients.fdsn.mass_downloader - INFO: 0 MiniSEED files [0.0 MB] already existed.\n",
      "[2023-09-25 12:49:34,435] - obspy.clients.fdsn.mass_downloader - INFO: 1 StationXML files [0.0 MB] already existed.\n",
      "[2023-09-25 12:49:34,436] - obspy.clients.fdsn.mass_downloader - INFO: Client 'SCEDC' - Acquired 0 MiniSEED files [0.0 MB].\n",
      "[2023-09-25 12:49:34,437] - obspy.clients.fdsn.mass_downloader - INFO: Client 'SCEDC' - Acquired 0 StationXML files [0.0 MB].\n",
      "[2023-09-25 12:49:34,438] - obspy.clients.fdsn.mass_downloader - INFO: Client 'IRIS' - Acquired 3 MiniSEED files [19.3 MB].\n",
      "[2023-09-25 12:49:34,439] - obspy.clients.fdsn.mass_downloader - INFO: Client 'IRIS' - Acquired 0 StationXML files [0.0 MB].\n",
      "[2023-09-25 12:49:34,440] - obspy.clients.fdsn.mass_downloader - INFO: Downloaded 19.3 MB in total.\n"
     ]
    },
    {
     "name": "stdout",
     "output_type": "stream",
     "text": [
      "** done with --> B921 -- PB -- 2019-09-02\n"
     ]
    },
    {
     "name": "stderr",
     "output_type": "stream",
     "text": [
      "[2023-09-25 12:49:38,915] - obspy.clients.fdsn.mass_downloader - INFO: Client 'SCEDC' - No data available for request.\n",
      "HTTP Status code: 204\n",
      "[2023-09-25 12:50:39,018] - obspy.clients.fdsn.mass_downloader - INFO: Client 'SCEDC' - No data available for request.\n",
      "HTTP Status code: 204\n",
      "[2023-09-25 12:51:25,529] - obspy.clients.fdsn.mass_downloader - ERROR: Client 'SCEDC' - Timed Out\n",
      "[2023-09-25 12:51:25,534] - obspy.clients.fdsn.mass_downloader - INFO: Client 'SCEDC' - Launching basic QC checks...\n",
      "[2023-09-25 12:51:25,538] - obspy.clients.fdsn.mass_downloader - INFO: Client 'SCEDC' - Downloaded 0.0 MB [0.00 KB/sec] of data, 0.0 MB of which were discarded afterwards.\n",
      "[2023-09-25 12:51:25,540] - obspy.clients.fdsn.mass_downloader - INFO: Client 'SCEDC' - Status for 3 time intervals/channels after downloading: DOWNLOAD_FAILED\n",
      "[2023-09-25 12:51:25,542] - obspy.clients.fdsn.mass_downloader - INFO: Client 'SCEDC' - No station information to download.\n",
      "[2023-09-25 12:51:25,544] - obspy.clients.fdsn.mass_downloader - INFO: Client 'SCEDC' - No data could be downloaded.\n",
      "[2023-09-25 12:51:25,545] - obspy.clients.fdsn.mass_downloader - INFO: Total acquired or preexisting stations: 0\n",
      "[2023-09-25 12:51:25,547] - obspy.clients.fdsn.mass_downloader - INFO: Client 'IRIS' - Requesting reliable availability.\n",
      "[2023-09-25 12:51:26,681] - obspy.clients.fdsn.mass_downloader - INFO: Client 'IRIS' - No data available for request.\n",
      "[2023-09-25 12:51:26,684] - obspy.clients.fdsn.mass_downloader - INFO: Client 'IRIS' - No data available.\n",
      "[2023-09-25 12:51:26,685] - obspy.clients.fdsn.mass_downloader - INFO: ============================== Final report\n",
      "[2023-09-25 12:51:26,688] - obspy.clients.fdsn.mass_downloader - INFO: 0 MiniSEED files [0.0 MB] already existed.\n",
      "[2023-09-25 12:51:26,691] - obspy.clients.fdsn.mass_downloader - INFO: 0 StationXML files [0.0 MB] already existed.\n",
      "[2023-09-25 12:51:26,692] - obspy.clients.fdsn.mass_downloader - INFO: Client 'SCEDC' - Acquired 0 MiniSEED files [0.0 MB].\n",
      "[2023-09-25 12:51:26,694] - obspy.clients.fdsn.mass_downloader - INFO: Client 'SCEDC' - Acquired 0 StationXML files [0.0 MB].\n",
      "[2023-09-25 12:51:26,696] - obspy.clients.fdsn.mass_downloader - INFO: Client 'IRIS' - Acquired 0 MiniSEED files [0.0 MB].\n",
      "[2023-09-25 12:51:26,698] - obspy.clients.fdsn.mass_downloader - INFO: Client 'IRIS' - Acquired 0 StationXML files [0.0 MB].\n",
      "[2023-09-25 12:51:26,700] - obspy.clients.fdsn.mass_downloader - INFO: Downloaded 0.0 MB in total.\n"
     ]
    },
    {
     "name": "stdout",
     "output_type": "stream",
     "text": [
      "** done with --> SV08 -- ZY -- 2019-09-02\n"
     ]
    }
   ],
   "source": [
    "downloadMseeds(client_list=[\"SCEDC\", \"IRIS\"], \n",
    "          stations_json=json_basepath, \n",
    "          output_dir=\"downloads_mseeds\", \n",
    "          start_time=STIME, \n",
    "          end_time=ETIME, \n",
    "          min_lat=MINLAT, \n",
    "          max_lat=MAXLAT, \n",
    "          min_lon=MINLON, \n",
    "          max_lon=MAXLON,\n",
    "          chunk_size=1,\n",
    "          channel_list=[],\n",
    "          n_processor=2)"
   ]
  },
  {
   "cell_type": "markdown",
   "metadata": {},
   "source": [
    "The above will download the continous data (either in MiniSeed or SAC) and save them into individual folders for each station insider your defined output directory (i.e. downloads_mseeds)."
   ]
  }
 ],
 "metadata": {
  "kernelspec": {
   "display_name": "Python 3",
   "language": "python",
   "name": "python3"
  },
  "language_info": {
   "codemirror_mode": {
    "name": "ipython",
    "version": 3
   },
   "file_extension": ".py",
   "mimetype": "text/x-python",
   "name": "python",
   "nbconvert_exporter": "python",
   "pygments_lexer": "ipython3",
   "version": "3.9.10"
  }
 },
 "nbformat": 4,
 "nbformat_minor": 2
}
