{
 "cells": [
  {
   "cell_type": "markdown",
   "metadata": {},
   "source": [
    "# (III) Phase Association\n",
    "After detection, the following performs a simple and fast association and writes down the results in Hypoinverse format (Y2000.phs)\n",
    "which can directly be used to locate the detected earthquakes.\n",
    "This is appropriate for a small number of stations located relatively close to each other.\n",
    "This also outputs \"traceNmae_dic.json\", A dictionary where the trace name for all the detections associated with an event is listed. \n",
    "This can be used later to access the traces for calculating the cross-correlations during the relocation process.  "
   ]
  },
  {
   "cell_type": "code",
   "execution_count": 1,
   "metadata": {},
   "outputs": [
    {
     "name": "stdout",
     "output_type": "stream",
     "text": [
      "reading B921_outputs ...\n"
     ]
    },
    {
     "name": "stderr",
     "output_type": "stream",
     "text": [
      " 99%|█████████▉| 11378/11520 [00:06<00:00, 1956.61it/s]"
     ]
    },
    {
     "name": "stdout",
     "output_type": "stream",
     "text": [
      "The Number of Associated Events: 0\n",
      "\n",
      "0 Event(s) in Catalog:\n",
      "\n"
     ]
    },
    {
     "name": "stderr",
     "output_type": "stream",
     "text": [
      "100%|██████████| 11520/11520 [00:19<00:00, 1956.61it/s]"
     ]
    }
   ],
   "source": [
    "STIME=\"2019-09-01 00:00:00.00\"\n",
    "ETIME=\"2019-09-03 00:00:00.00\"\n",
    "\n",
    "import shutil\n",
    "import os\n",
    "from EQTransformer.utils.associator import run_associator\n",
    "\n",
    "out_dir = \"asociation\"\n",
    "try:\n",
    "    shutil.rmtree(out_dir)\n",
    "except Exception:\n",
    "    pass\n",
    "os.makedirs(out_dir) \n",
    "\n",
    "run_associator(input_dir='detections2', \n",
    "               start_time=STIME, \n",
    "               end_time=ETIME,\n",
    "               moving_window = 15,\n",
    "               pair_n = 3,\n",
    "               output_dir=out_dir,\n",
    "               consider_combination=False)"
   ]
  }
 ],
 "metadata": {
  "kernelspec": {
   "display_name": "Python 3",
   "language": "python",
   "name": "python3"
  },
  "language_info": {
   "codemirror_mode": {
    "name": "ipython",
    "version": 3
   },
   "file_extension": ".py",
   "mimetype": "text/x-python",
   "name": "python",
   "nbconvert_exporter": "python",
   "pygments_lexer": "ipython3",
   "version": "3.9.10"
  }
 },
 "nbformat": 4,
 "nbformat_minor": 2
}
